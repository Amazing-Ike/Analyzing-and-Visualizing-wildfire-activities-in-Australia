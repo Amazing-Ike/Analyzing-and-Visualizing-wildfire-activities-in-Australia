{
 "cells": [
  {
   "cell_type": "code",
   "execution_count": null,
   "id": "d4810f32",
   "metadata": {},
   "outputs": [],
   "source": [
    "AUSTRALIAN WILDFIRE CASHBOARD"
   ]
  },
  {
   "cell_type": "code",
   "execution_count": 2,
   "id": "3d311cdd",
   "metadata": {},
   "outputs": [
    {
     "data": {
      "text/html": [
       "\n",
       "        <iframe\n",
       "            width=\"100%\"\n",
       "            height=\"650\"\n",
       "            src=\"http://127.0.0.1:8055/\"\n",
       "            frameborder=\"0\"\n",
       "            allowfullscreen\n",
       "            \n",
       "        ></iframe>\n",
       "        "
      ],
      "text/plain": [
       "<IPython.lib.display.IFrame at 0x1ac9494a050>"
      ]
     },
     "metadata": {},
     "output_type": "display_data"
    }
   ],
   "source": [
    "import pandas as pd\n",
    "import dash\n",
    "from dash import html, dcc\n",
    "from dash.dependencies import Input, Output, State\n",
    "import plotly.graph_objects as go\n",
    "import plotly.express as px\n",
    "from dash import no_update\n",
    "import datetime as dt\n",
    "\n",
    "# Create app\n",
    "app = dash.Dash(__name__)\n",
    "\n",
    "# Clear the layout and do not display exception until callback gets executed\n",
    "app.config.suppress_callback_exceptions = True\n",
    "\n",
    "# Read the wildfire data into pandas dataframe\n",
    "df = pd.read_csv('https://cf-courses-data.s3.us.cloud-object-storage.appdomain.cloud/IBMDeveloperSkillsNetwork-DV0101EN-SkillsNetwork/Data%20Files/Historical_Wildfires.csv')\n",
    "\n",
    "# Extract year and month from the date column\n",
    "df['Month'] = pd.to_datetime(df['Date']).dt.month_name()\n",
    "df['Year'] = pd.to_datetime(df['Date']).dt.year\n",
    "\n",
    "# Layout Section of Dash\n",
    "app.layout = html.Div(children=[\n",
    "    html.H1('Australia Wildfire Dashboard', style={\n",
    "        'textAlign': 'center', 'color': '#503D36', 'font-size': 26}),\n",
    "    html.Div([\n",
    "        html.Div([\n",
    "            html.H2('Select Region:', style={'margin-right': '2em'}),\n",
    "            dcc.RadioItems(\n",
    "                [ {\"label\":\"New South Wales\",\"value\": \"NSW\"},\n",
    "                  {\"label\":\"Northern Territory\",\"value\": \"NT\"},\n",
    "                  {\"label\":\"Queensland\",\"value\": \"QL\"},\n",
    "                  {\"label\":\"South Australia\",\"value\": \"SA\"},\n",
    "                  {\"label\":\"Tasmania\",\"value\": \"TA\"},\n",
    "                  {\"label\":\"Victoria\",\"value\": \"VI\"},\n",
    "                  {\"label\":\"Western Australia\",\"value\": \"WA\"}\n",
    "                ],\n",
    "                value=\"NSW\", id='region', inline=True\n",
    "            ),\n",
    "        ]),\n",
    "        html.Div([\n",
    "            html.H2('Select Year:', style={'margin-right': '2em'}),\n",
    "            dcc.Dropdown(options=[{'label': year, 'value': year} for year in df.Year.unique()], value=2005, id='year')\n",
    "        ]),\n",
    "        html.Div([\n",
    "            html.Div([], id='plot1'),\n",
    "            html.Div([], id='plot2')\n",
    "        ], style={'display': 'flex'}),\n",
    "    ]),\n",
    "])\n",
    "\n",
    "@app.callback(\n",
    "    [Output(component_id='plot1', component_property='children'),\n",
    "     Output(component_id='plot2', component_property='children')],\n",
    "    [Input(component_id='region', component_property='value'),\n",
    "     Input(component_id='year', component_property='value')]\n",
    ")\n",
    "def reg_year_display(input_region, input_year):\n",
    "    # data\n",
    "    region_data = df[df['Region'] == input_region]\n",
    "    y_r_data = region_data[region_data['Year'] == input_year]\n",
    "    \n",
    "    # Plot one - Monthly Average Estimated Fire Area\n",
    "    est_data = y_r_data.groupby('Month')['Estimated_fire_area'].mean().reset_index()\n",
    "    fig1 = px.pie(est_data, values='Estimated_fire_area', names='Month', title=\"{} : Monthly Average Estimated Fire Area in year {}\".format(input_region, input_year))\n",
    "    \n",
    "    # Plot two - Monthly Average Count of Pixels for Presumed Vegetation Fires\n",
    "    veg_data = y_r_data.groupby('Month')['Count'].mean().reset_index()\n",
    "    fig2 = px.bar(veg_data, x='Month', y='Count', title='{} : Average Count of Pixels for Presumed Vegetation Fires in year {}'.format(input_region, input_year))\n",
    "    \n",
    "    return [dcc.Graph(figure=fig1), dcc.Graph(figure=fig2)]\n",
    "\n",
    "if __name__ == '__main__':\n",
    "    app.run_server(port=8055)  # Use a different port, like 8051\n"
   ]
  },
  {
   "cell_type": "code",
   "execution_count": null,
   "id": "9cbde40c",
   "metadata": {},
   "outputs": [],
   "source": []
  }
 ],
 "metadata": {
  "kernelspec": {
   "display_name": "Python 3 (ipykernel)",
   "language": "python",
   "name": "python3"
  },
  "language_info": {
   "codemirror_mode": {
    "name": "ipython",
    "version": 3
   },
   "file_extension": ".py",
   "mimetype": "text/x-python",
   "name": "python",
   "nbconvert_exporter": "python",
   "pygments_lexer": "ipython3",
   "version": "3.11.4"
  }
 },
 "nbformat": 4,
 "nbformat_minor": 5
}
